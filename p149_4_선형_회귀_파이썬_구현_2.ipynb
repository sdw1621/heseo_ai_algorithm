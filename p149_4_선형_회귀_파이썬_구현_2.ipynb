{
  "nbformat": 4,
  "nbformat_minor": 0,
  "metadata": {
    "colab": {
      "name": "p149_4. 선형 회귀 파이썬 구현 #2.ipynb",
      "provenance": [],
      "authorship_tag": "ABX9TyO2qjmeB+Slm0kaaJB19gKb",
      "include_colab_link": true
    },
    "kernelspec": {
      "name": "python3",
      "display_name": "Python 3"
    },
    "language_info": {
      "name": "python"
    }
  },
  "cells": [
    {
      "cell_type": "markdown",
      "metadata": {
        "id": "view-in-github",
        "colab_type": "text"
      },
      "source": [
        "<a href=\"https://colab.research.google.com/github/sdw1621/heseo_ai_algorithm/blob/main/p149_4_%EC%84%A0%ED%98%95_%ED%9A%8C%EA%B7%80_%ED%8C%8C%EC%9D%B4%EC%8D%AC_%EA%B5%AC%ED%98%84_2.ipynb\" target=\"_parent\"><img src=\"https://colab.research.google.com/assets/colab-badge.svg\" alt=\"Open In Colab\"/></a>"
      ]
    },
    {
      "cell_type": "code",
      "metadata": {
        "colab": {
          "base_uri": "https://localhost:8080/"
        },
        "id": "OH9uKbN8b-ti",
        "outputId": "84fad6c1-ebb1-463b-fbbc-78dc1792c6f0"
      },
      "source": [
        "import matplotlib as plt\n",
        "from sklearn import linear_model\n",
        "\n",
        "# 선형 회귀 모델을 생성한다.\n",
        "reg = linear_model.LinearRegression()\n",
        "\n",
        "# 데이터는 파이썬의 리스트로 만들어도 되고 아니면 넘파이의 배열로 만들어도 됨\n",
        "# 반드시 2차원으로 만들어야 함\n",
        "X = [[0], [1], [2]]\n",
        "\n",
        "# y = x + 3\n",
        "y = [3, 3.5, 5.5]\n",
        "\n",
        "# 학습을 시킨다.\n",
        "reg.fit(X, y)\n",
        "\n",
        "print(reg.coef_)\n",
        "print(reg.intercept_)\n",
        "print(reg.score(X, y))"
      ],
      "execution_count": 1,
      "outputs": [
        {
          "output_type": "stream",
          "name": "stdout",
          "text": [
            "[1.25]\n",
            "2.7500000000000004\n",
            "0.8928571428571429\n"
          ]
        }
      ]
    },
    {
      "cell_type": "code",
      "metadata": {
        "id": "vdkGRGEzcGRB"
      },
      "source": [
        ""
      ],
      "execution_count": null,
      "outputs": []
    }
  ]
}