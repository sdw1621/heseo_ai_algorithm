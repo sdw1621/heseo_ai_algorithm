{
  "nbformat": 4,
  "nbformat_minor": 0,
  "metadata": {
    "colab": {
      "name": "p153_LAB. 선형 회귀 실습.ipynb",
      "provenance": [],
      "authorship_tag": "ABX9TyMbM24NLH3Sm1kKZkFifU+E",
      "include_colab_link": true
    },
    "kernelspec": {
      "name": "python3",
      "display_name": "Python 3"
    },
    "language_info": {
      "name": "python"
    }
  },
  "cells": [
    {
      "cell_type": "markdown",
      "metadata": {
        "id": "view-in-github",
        "colab_type": "text"
      },
      "source": [
        "<a href=\"https://colab.research.google.com/github/sdw1621/heseo_ai_algorithm/blob/main/p153_LAB_%EC%84%A0%ED%98%95_%ED%9A%8C%EA%B7%80_%EC%8B%A4%EC%8A%B5.ipynb\" target=\"_parent\"><img src=\"https://colab.research.google.com/assets/colab-badge.svg\" alt=\"Open In Colab\"/></a>"
      ]
    },
    {
      "cell_type": "code",
      "metadata": {
        "id": "INMQIzJVcNx-"
      },
      "source": [
        "import matplotlib.pylab as plt\n",
        "from sklearn import linear_model\n",
        "\n",
        "reg = linear_model.LinearRegression()\n",
        "\n",
        "X = [ [174], [152], [138], [128], [186] ]\n",
        "y = [71, 55, 46, 38, 88]\n",
        "\n",
        "# 학습\n",
        "reg.fit(X, y)\n",
        "\n",
        "print(reg.predict([[165]]))\n",
        "\n",
        "# 학습 데이터와 y값을 산포도로 그린다.\n",
        "plt.scatter(X, y, color='black')\n",
        "\n",
        "# 학습 데이터를 입력으로 하여 예측값을 계산한다.\n",
        "y_pred = reg.predict(X)\n",
        "\n",
        "# 학습 데이터와 예측값으로 선 그래프를 그린다.\n",
        "# 계산된 기울기와 y절편을 가지는 직선이 그려진다.\n",
        "plt.plot(X, y_pred, color='blue', linewidth=3)\n",
        "plt.show()"
      ],
      "execution_count": null,
      "outputs": []
    }
  ]
}