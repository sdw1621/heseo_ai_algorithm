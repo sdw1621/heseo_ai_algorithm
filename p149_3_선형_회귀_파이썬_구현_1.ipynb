{
  "nbformat": 4,
  "nbformat_minor": 0,
  "metadata": {
    "colab": {
      "name": "p149_3. 선형 회귀 파이썬 구현 #1.ipynb",
      "provenance": [],
      "collapsed_sections": [],
      "authorship_tag": "ABX9TyMO/aPYmR3okfrmYruLnaF6",
      "include_colab_link": true
    },
    "kernelspec": {
      "name": "python3",
      "display_name": "Python 3"
    },
    "language_info": {
      "name": "python"
    }
  },
  "cells": [
    {
      "cell_type": "markdown",
      "metadata": {
        "id": "view-in-github",
        "colab_type": "text"
      },
      "source": [
        "<a href=\"https://colab.research.google.com/github/sdw1621/heseo_ai_algorithm/blob/main/p149_3_%EC%84%A0%ED%98%95_%ED%9A%8C%EA%B7%80_%ED%8C%8C%EC%9D%B4%EC%8D%AC_%EA%B5%AC%ED%98%84_1.ipynb\" target=\"_parent\"><img src=\"https://colab.research.google.com/assets/colab-badge.svg\" alt=\"Open In Colab\"/></a>"
      ]
    },
    {
      "cell_type": "code",
      "metadata": {
        "colab": {
          "base_uri": "https://localhost:8080/",
          "height": 283
        },
        "id": "e200knE3blWD",
        "outputId": "97750017-cffe-4e1c-bdd0-0f8bfa1dcbd2"
      },
      "source": [
        "import numpy as np\n",
        "import matplotlib.pyplot as plt\n",
        "\n",
        "X = np.array([0.0, 1.0, 2.0])\n",
        "y = np.array([3.0, 3.5, 5.5])\n",
        "\n",
        "# 기울기\n",
        "w = 0 \n",
        "# 절편\n",
        "b = 0 \n",
        "\n",
        "# 학습률\n",
        "lrate = 0.01 \n",
        "# 반복 횟수\n",
        "epochs = 1000 \n",
        "\n",
        "# 입력 데이터의 개\n",
        "n = float(len(X)) \n",
        "\n",
        "# 경사 하강법\n",
        "for i in range(epochs):\n",
        "    # 선형 회귀 예측값\n",
        "    y_pred = w * X + b \n",
        "    # 넘파이 배열간 산술 계산은 요소별 적용\n",
        "    dw = (2/n) * sum(X * (y_pred - y))\n",
        "    # sum()은 모든 요소들의 합을 계산하는 내장 함\n",
        "    db = (2/n) * sum(y_pred - y)\n",
        "    # 기울기 수정\n",
        "    w = w - lrate * dw\n",
        "    # 절편 수정\n",
        "    b = b - lrate * db\n",
        "    \n",
        "# 기울기와 절편을 출력한다\n",
        "print(w, b)\n",
        "\n",
        "# 예측값을 만든다\n",
        "y_pred = w*X + b\n",
        "\n",
        "# 입력 데이터를 그래프 상에 찍는다.\n",
        "plt.scatter(X, y)\n",
        "\n",
        "# 예측값은 선 그래프로 그린다.\n",
        "plt.plot([min(X), max(X)], [min(y_pred), max(y_pred)], color='red')\n",
        "plt.show()"
      ],
      "execution_count": 1,
      "outputs": [
        {
          "output_type": "stream",
          "name": "stdout",
          "text": [
            "1.2532418085611319 2.745502230882486\n"
          ]
        },
        {
          "output_type": "display_data",
          "data": {
            "image/png": "[encoded data removed]",
            "text/plain": [
              "<Figure size 432x288 with 1 Axes>"
            ]
          },
          "metadata": {
            "needs_background": "light"
          }
        }
      ]
    },
    {
      "cell_type": "code",
      "metadata": {
        "id": "MeZQ9sNMbuNZ"
      },
      "source": [
        ""
      ],
      "execution_count": null,
      "outputs": []
    }
  ]
}